{
 "cells": [
  {
   "cell_type": "code",
   "execution_count": 2,
   "id": "b9a3d98c",
   "metadata": {},
   "outputs": [
    {
     "name": "stdout",
     "output_type": "stream",
     "text": [
      "Hello jypter notebook \n"
     ]
    }
   ],
   "source": [
    "print(\"Hello jypter notebook \")"
   ]
  },
  {
   "cell_type": "code",
   "execution_count": 3,
   "id": "167425ee",
   "metadata": {},
   "outputs": [
    {
     "name": "stdout",
     "output_type": "stream",
     "text": [
      "Sum of 5 and 7 is 12\n"
     ]
    }
   ],
   "source": [
    "a = 5\n",
    "b = 7\n",
    "sum = a + b\n",
    "print(\"Sum of\", a, \"and\", b, \"is\", sum)"
   ]
  },
  {
   "cell_type": "code",
   "execution_count": 4,
   "id": "8d7b9baf",
   "metadata": {},
   "outputs": [
    {
     "name": "stdout",
     "output_type": "stream",
     "text": [
      "My name is Om Yadav, I am 19 Year old and my aim is to be a Machine learning Engineer or in related field with belive of Continous Learning\n"
     ]
    }
   ],
   "source": [
    "name=\"Om Yadav\"\n",
    "age=19\n",
    "aim=\"Machine learning Engineer or in related field\"\n",
    "belive=\"Continous Learning\"\n",
    "print(f\"My name is {name}, I am {age} Year old and my aim is to be a {aim} with belive of {belive}\")"
   ]
  }
 ],
 "metadata": {
  "kernelspec": {
   "display_name": "Python 3",
   "language": "python",
   "name": "python3"
  },
  "language_info": {
   "codemirror_mode": {
    "name": "ipython",
    "version": 3
   },
   "file_extension": ".py",
   "mimetype": "text/x-python",
   "name": "python",
   "nbconvert_exporter": "python",
   "pygments_lexer": "ipython3",
   "version": "3.13.5"
  }
 },
 "nbformat": 4,
 "nbformat_minor": 5
}
